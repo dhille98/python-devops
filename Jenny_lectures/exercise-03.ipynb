{
 "cells": [
  {
   "cell_type": "markdown",
   "id": "b8225a9c",
   "metadata": {},
   "source": [
    "### program to add digits of a number \n",
    "* i am giving on two digists number like a `12` but output should shoing like a `3`\n",
    "* "
   ]
  },
  {
   "cell_type": "code",
   "execution_count": 2,
   "id": "a800c079",
   "metadata": {},
   "outputs": [
    {
     "name": "stdout",
     "output_type": "stream",
     "text": [
      "14\n"
     ]
    }
   ],
   "source": [
    "Number = input(\"Enter The two digits number:\")\n",
    "frist_digits = Number[0]\n",
    "second_digits = Number[1]\n",
    "print(int(frist_digits) + int(second_digits))"
   ]
  },
  {
   "cell_type": "markdown",
   "id": "25c9fb73",
   "metadata": {},
   "source": [
    "### Operators in python \n",
    "* **Arthmetic Operators**\n",
    "* presinding a charts \n",
    "      - order is (), ** , * , / ,//, %, +, -"
   ]
  },
  {
   "cell_type": "code",
   "execution_count": null,
   "id": "956d7e2d",
   "metadata": {},
   "outputs": [
    {
     "name": "stdout",
     "output_type": "stream",
     "text": [
      "9\n",
      "2\n",
      "8\n",
      "2.0\n",
      "2\n",
      "16\n",
      "0\n",
      "12.0\n"
     ]
    }
   ],
   "source": [
    "# Arithmetic Operators\n",
    "print(4+6)\n",
    "print(4-2)\n",
    "print(4*2)\n",
    "print(4/2)\n",
    "print(4//2)\n",
    "print(4**2)\n",
    "print(4%2)\n",
    "print(5 + 2 * 3 - 1 + 10 / 5)"
   ]
  },
  {
   "cell_type": "markdown",
   "id": "bc148ab6",
   "metadata": {},
   "source": [
    "### Assigment and Comparision operators\n",
    "* Assigment operators used to assign value to varibles \n",
    "* using on \n",
    "```\n",
    "a = 5\n",
    "a = a + 2 #or\n",
    "a += 2\n",
    "```\n",
    "* Compares operators used on compares the value either returns True or False according to the condition \n",
    "* ==, <, >, <=, >=, != \n",
    "```\n",
    "a = 5\n",
    "print( a < 5 ) # false \n",
    "print(a > 5 ) # false \n",
    "print(a == 5 ) # True\n",
    "```"
   ]
  },
  {
   "cell_type": "code",
   "execution_count": null,
   "id": "18c3be0f",
   "metadata": {},
   "outputs": [
    {
     "name": "stdout",
     "output_type": "stream",
     "text": [
      "5\n",
      "5 4 6\n",
      "7\n",
      "9\n",
      "13\n"
     ]
    }
   ],
   "source": [
    "# Assigment Operators\n",
    "a = 5\n",
    "print(a)\n",
    "a,b,c = 5,4,6\n",
    "print(a,b,c)\n",
    "a += 2\n",
    "b += 5 # b = b+5\n",
    "c += a # c = c+a\n",
    "print(a)\n",
    "print(b)\n",
    "print(c)"
   ]
  },
  {
   "cell_type": "code",
   "execution_count": 6,
   "id": "0a3cd2ae",
   "metadata": {},
   "outputs": [
    {
     "name": "stdout",
     "output_type": "stream",
     "text": [
      "False\n",
      "True\n",
      "True\n",
      "True\n"
     ]
    }
   ],
   "source": [
    "# Comparison Operators \n",
    "a = 5\n",
    "print(a < 5)\n",
    "print(a == 5)\n",
    "print(a != 4)\n",
    "print(a <= 5)"
   ]
  },
  {
   "cell_type": "markdown",
   "id": "d35922a1",
   "metadata": {},
   "source": [
    "### logical Operators \n",
    "* basically used to combine Conditional Statements `AND`, `OR`, `NOT` \n",
    "* `and` well return True if both Statements are true \n",
    "* `or` well return true if one of the Statements is true \n",
    "* `not` reverse the result or regate the result "
   ]
  },
  {
   "cell_type": "code",
   "execution_count": null,
   "id": "cbe51352",
   "metadata": {},
   "outputs": [
    {
     "name": "stdout",
     "output_type": "stream",
     "text": [
      "True\n",
      "False\n",
      "False\n",
      "False\n",
      "True\n",
      "True\n",
      "True\n",
      "False\n",
      "True\n"
     ]
    }
   ],
   "source": [
    "# logics in py and, or , not\n",
    "a,b = 5,4\n",
    "print(a > 4 and b < 10 )\n",
    "print(a > 4 and b < 3 )\n",
    "print(a > 7 and b < 3 )\n",
    "print(a > 7 and b < 10 )\n",
    "# or \n",
    "\n",
    "print(a > 4 or b < 10 )\n",
    "print(a > 7 or b < 10 )\n",
    "print(a > 4 or b < 3 )\n",
    "print(a > 7 or b < 3 )\n",
    "\n",
    "# not \n",
    "a = False\n",
    "print(not(a))"
   ]
  },
  {
   "cell_type": "markdown",
   "id": "17222a60",
   "metadata": {},
   "source": [
    "### Bitwise Opertors \n",
    "* bitwise Operators work on bits \n",
    "* used to compare binary numbers (operation)\n",
    "* operators is `&, |, ^,~,<<, >>`\n",
    "* eg:\n",
    "```\n",
    "a = 0101\n",
    "b = 0100\n",
    " a & b means both should be 1 \n",
    "0100 binary value is =2^2 = 4\n",
    "a | b means at least 1 \n",
    "0101 binary value is = 2^2 + 2^0 = 5\n",
    "a ^ B means both bits same it will give on 0 \n",
    "0001 binary value is = 2^0 = 1\n",
    "~ a means 0 should be 1 and 1 should 0 \n",
    "    5 will binary value is 0101\n",
    "    ~ 5 means binary value is 1010 is value is 2^3 + 2 = 10 \n",
    "    2's = 1's + 1 \n",
    "\n",
    "\n",
    "```\n",
    "```\n",
    "# left shift is always gain bits \n",
    "a = 5 \n",
    "b = 4 \n",
    "print(a << 2 )\n",
    "ans is \n",
    "    5 = 0101\n",
    "        010100 # add on two bits formula is a<<n is a * 2^n\n",
    "```\n",
    "```\n",
    "# Right shift is lose the bits \n",
    "a = 5\n",
    "b = 4 \n",
    "print(a >> 2 )\n",
    "5 = 0101\n",
    "    0001 # lose the bits on right side \n",
    "    # formule is \n",
    "```"
   ]
  },
  {
   "cell_type": "code",
   "execution_count": 11,
   "id": "09a60d41",
   "metadata": {},
   "outputs": [
    {
     "name": "stdout",
     "output_type": "stream",
     "text": [
      "4\n",
      "5\n",
      "1\n",
      "-6\n",
      "20\n",
      "1\n"
     ]
    }
   ],
   "source": [
    "# playing with game \n",
    "a,b = 5,4\n",
    "print(a & b)\n",
    "print(a | b)\n",
    "print(a ^ b)\n",
    "print(~a)\n",
    "print(a << 2)\n",
    "print(a >> 2)"
   ]
  },
  {
   "cell_type": "markdown",
   "id": "7f69288a",
   "metadata": {},
   "source": [
    "### Identity Operator in Python\n",
    "\n",
    "* Compare the objects to check if both objects are actually same objects and share same memory location \n",
    "* to find id of an object syntax is \n",
    "      * id (object_name)\n",
    "\n",
    "\n",
    "* so it will return memory address of the object which have been passed as an arguments \n",
    "* a = 10\n",
    "* print(id(a)) --> so it will return addres \n",
    "* print(id(10)) \n",
    "* both lines will print same address means id for both \"a\" and \"10\" is same \n",
    "* `is` and `is not` \n",
    "* if a = 5 and b = 5 now print on print(a is b) => true \n",
    "* memery obeject is reuse data \n",
    "* `int, flaot, bool` is a immutable obejects \n",
    "* `list` is mutable objects \n"
   ]
  },
  {
   "cell_type": "code",
   "execution_count": 1,
   "id": "ed445bc9",
   "metadata": {},
   "outputs": [
    {
     "name": "stdout",
     "output_type": "stream",
     "text": [
      "140736603888184\n",
      "140736603888184\n",
      "True\n"
     ]
    }
   ],
   "source": [
    "# under standing on Identity Operator \n",
    "a = 5\n",
    "b = 5\n",
    "print(id(a))\n",
    "print(id(b))\n",
    "print(a is b)"
   ]
  },
  {
   "cell_type": "code",
   "execution_count": 3,
   "id": "380fa1b6",
   "metadata": {},
   "outputs": [
    {
     "name": "stdout",
     "output_type": "stream",
     "text": [
      "140736603888184\n",
      "2640788897584\n",
      "False\n",
      "True\n"
     ]
    }
   ],
   "source": [
    "a = 5\n",
    "b = 5.0\n",
    "print(id(a))\n",
    "print(id(b))\n",
    "print(a is b)\n",
    "print(a is not b)"
   ]
  },
  {
   "cell_type": "code",
   "execution_count": 4,
   "id": "1b08d68b",
   "metadata": {},
   "outputs": [
    {
     "name": "stdout",
     "output_type": "stream",
     "text": [
      "140736603888184\n",
      "140736603888216\n",
      "False\n"
     ]
    }
   ],
   "source": [
    "a = 5 \n",
    "\n",
    "print(id(a))\n",
    "\n",
    "a = 6 \n",
    "\n",
    "print(id(a))\n",
    "\n",
    "print( a is b )"
   ]
  },
  {
   "cell_type": "markdown",
   "id": "d0af81bf",
   "metadata": {},
   "source": [
    "### Mebership Operator in Python \n",
    "* membership operators check for membership in a sequence such as string, list or tuple, set, dictioary\n",
    "* membership operators are two types \n",
    "      * in \n",
    "      * not in \n",
    "* `in` returns true if specified element is prerent in the sequence other wise returns false.\n",
    "* `not in` return true if specified element is not present in the sequence other wise false "
   ]
  },
  {
   "cell_type": "code",
   "execution_count": 8,
   "id": "a969052b",
   "metadata": {},
   "outputs": [
    {
     "name": "stdout",
     "output_type": "stream",
     "text": [
      "True\n",
      "False\n",
      "True\n"
     ]
    }
   ],
   "source": [
    "# Membership operator in python \n",
    "\n",
    "str = \"india\"\n",
    "\n",
    "print( 'd' in str)\n",
    "print( \"D\" in str)\n",
    "print( \"D\" not in str)\n"
   ]
  },
  {
   "cell_type": "code",
   "execution_count": 7,
   "id": "db18209f",
   "metadata": {},
   "outputs": [
    {
     "name": "stdout",
     "output_type": "stream",
     "text": [
      "True\n"
     ]
    }
   ],
   "source": [
    "l = [0 , -1 , 10, 5, 6 ]\n",
    "print(10 in l)"
   ]
  }
 ],
 "metadata": {
  "kernelspec": {
   "display_name": "Python 3",
   "language": "python",
   "name": "python3"
  },
  "language_info": {
   "codemirror_mode": {
    "name": "ipython",
    "version": 3
   },
   "file_extension": ".py",
   "mimetype": "text/x-python",
   "name": "python",
   "nbconvert_exporter": "python",
   "pygments_lexer": "ipython3",
   "version": "3.12.3"
  }
 },
 "nbformat": 4,
 "nbformat_minor": 5
}
