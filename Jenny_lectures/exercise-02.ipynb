{
 "cells": [
  {
   "cell_type": "markdown",
   "metadata": {},
   "source": [
    "## Vaiables in python \n",
    "* store the values on vaiables an reusable\n",
    "* a = 1\n",
    "* b = \"jenny\"\n",
    "* call the vaiables using on `print(a)`"
   ]
  },
  {
   "cell_type": "code",
   "execution_count": 1,
   "metadata": {},
   "outputs": [
    {
     "name": "stdout",
     "output_type": "stream",
     "text": [
      "1\n",
      "jenny\n"
     ]
    }
   ],
   "source": [
    "a = 1\n",
    "b = \"jenny\"\n",
    "print(a)\n",
    "print(b)"
   ]
  },
  {
   "cell_type": "code",
   "execution_count": 2,
   "metadata": {},
   "outputs": [
    {
     "name": "stdout",
     "output_type": "stream",
     "text": [
      "dhilli\n"
     ]
    }
   ],
   "source": [
    "Name = input(\"Enter Your Name\")\n",
    "print(Name) # dhilli"
   ]
  },
  {
   "cell_type": "markdown",
   "metadata": {},
   "source": [
    "* find the length of word using functions `len()`"
   ]
  },
  {
   "cell_type": "code",
   "execution_count": 4,
   "metadata": {},
   "outputs": [
    {
     "name": "stdout",
     "output_type": "stream",
     "text": [
      "6\n"
     ]
    }
   ],
   "source": [
    "Name = input(\"Enter Your Name\") # dhilli\n",
    "length = len(Name)\n",
    "print(length)"
   ]
  },
  {
   "cell_type": "markdown",
   "metadata": {},
   "source": [
    "### Swap 2 numbers \n",
    "* task is \n",
    "    * enter value of a = 1\n",
    "    * enter value of b = 2 \n",
    "        * a = 2\n",
    "        * b = 1\n",
    "* \n"
   ]
  },
  {
   "cell_type": "code",
   "execution_count": 1,
   "metadata": {},
   "outputs": [
    {
     "name": "stdout",
     "output_type": "stream",
     "text": [
      "a=4\n",
      "b=5\n"
     ]
    }
   ],
   "source": [
    "a = input(\"enter value of a= \") # a=5\n",
    "b = input(\"enter value of b= \") # b=4\n",
    "temp = a\n",
    "a=b\n",
    "b=temp\n",
    "\n",
    "print(\"a=\" +a)\n",
    "print(\"b=\" + b)\n"
   ]
  },
  {
   "cell_type": "markdown",
   "metadata": {},
   "source": [
    "### variable names\n",
    "* Camal case --- myName\n",
    "* Pascal case --- MyName\n",
    "* sake case --- my_name"
   ]
  },
  {
   "cell_type": "markdown",
   "metadata": {},
   "source": [
    "### Data types \n",
    "* data types of class \n",
    "* check the data using on `type()`\n",
    "* in python you dont need to tell the data type \n",
    "* learn on `int, float, string, Boolean`\n",
    "* output showing like that `<class 'int'>`\n",
    "* concatenate the two diffrent types is not possiable \n",
    "* in python print on outputs new line using on `\\n` and the space using on `\\`\n",
    "* `print(\"I \\ love \\n india\")`"
   ]
  },
  {
   "cell_type": "code",
   "execution_count": 9,
   "metadata": {},
   "outputs": [
    {
     "name": "stdout",
     "output_type": "stream",
     "text": [
      "<class 'int'>\n",
      "<class 'float'>\n",
      "83\n",
      "<class 'int'>\n",
      "291\n",
      "<class 'int'>\n",
      "<class 'str'>\n",
      "I\n",
      "<class 'bool'>\n"
     ]
    }
   ],
   "source": [
    "# playing with data types \n",
    "var_1 = 3 \n",
    "var_2 = 125.6\n",
    "var_3 = 0o123\n",
    "var_4 = 0x123\n",
    "name = \"India\"\n",
    "var_5 = True\n",
    "print(type(var_1))\n",
    "print(type(var_2))\n",
    "print(var_3)\n",
    "print(type(var_3))\n",
    "print(var_4)\n",
    "print(type(var_4))\n",
    "print(type(name))\n",
    "print(name[0])\n",
    "print(type(var_5))\n"
   ]
  },
  {
   "cell_type": "code",
   "execution_count": 8,
   "metadata": {},
   "outputs": [
    {
     "name": "stdout",
     "output_type": "stream",
     "text": [
      "jenny's \"Leatures\"\n",
      "jenny's \n",
      " \"Leatures\"\n",
      "jenny's \\n \"Leatures\"\n",
      "jenny's \\n \"Leatures\"jenny's \\n \"Leatures\"jenny's \\n \"Leatures\"\n"
     ]
    }
   ],
   "source": [
    "# note\n",
    "print(\"jenny\\'s \\\"Leatures\\\"\")\n",
    "print(\"jenny\\'s \\n \\\"Leatures\\\"\")\n",
    "print(\"jenny\\'s \\\\n \\\"Leatures\\\"\")\n",
    "print(3*\"jenny\\'s \\\\n \\\"Leatures\\\"\")"
   ]
  },
  {
   "cell_type": "markdown",
   "metadata": {},
   "source": [
    "### Type checking, Type Error & Type Converssion \n",
    "* changing the data type one to another\n",
    "* input function by default taken from `string`\n"
   ]
  },
  {
   "cell_type": "code",
   "execution_count": null,
   "metadata": {},
   "outputs": [
    {
     "name": "stdout",
     "output_type": "stream",
     "text": [
      "12\n",
      "5\n"
     ]
    },
    {
     "data": {
      "text/plain": [
       "'\\nint()\\nfloat()\\nstr()\\n'"
      ]
     },
     "execution_count": 15,
     "metadata": {},
     "output_type": "execute_result"
    }
   ],
   "source": [
    "# type_casting \n",
    "print(len(\"jenny khatri\"))\n",
    "# print(len(12345))\n",
    "print(len(\"12345\"))\n",
    "\n",
    "\"\"\"\n",
    "int()\n",
    "float()\n",
    "str()\n",
    "\n",
    "\"\"\"\n"
   ]
  },
  {
   "cell_type": "code",
   "execution_count": 14,
   "metadata": {},
   "outputs": [
    {
     "name": "stdout",
     "output_type": "stream",
     "text": [
      "your name has 12 characters\n"
     ]
    }
   ],
   "source": [
    "length = len(\"jenny khatri\")\n",
    "# print(\"your name has\" + length + \"characters\")\n",
    "print(\"your name has \" + str(length) + \" characters\")\n"
   ]
  },
  {
   "cell_type": "code",
   "execution_count": null,
   "metadata": {},
   "outputs": [
    {
     "name": "stdout",
     "output_type": "stream",
     "text": [
      "20\n",
      "20\n",
      "20.0\n"
     ]
    }
   ],
   "source": [
    "print(10 + 10)\n",
    "print(int(10) + int(10))\n",
    "print(10 + float(10))\n"
   ]
  },
  {
   "cell_type": "code",
   "execution_count": null,
   "metadata": {},
   "outputs": [
    {
     "name": "stdout",
     "output_type": "stream",
     "text": [
      "87\n",
      "15\n"
     ]
    }
   ],
   "source": [
    "# exercise-2\n",
    "frist_Number = input(\"Enter the frist Number:\")\n",
    "Second_Number = input(\"Enter The Second Number:\")\n",
    "# type casted \n",
    "sum_1 = frist_Number + Second_Number\n",
    "sum_2 = int(frist_Number) + int(Second_Number)\n",
    "print(sum_1)\n",
    "print(sum_2)"
   ]
  }
 ],
 "metadata": {
  "kernelspec": {
   "display_name": "Python 3",
   "language": "python",
   "name": "python3"
  },
  "language_info": {
   "codemirror_mode": {
    "name": "ipython",
    "version": 3
   },
   "file_extension": ".py",
   "mimetype": "text/x-python",
   "name": "python",
   "nbconvert_exporter": "python",
   "pygments_lexer": "ipython3",
   "version": "3.12.3"
  }
 },
 "nbformat": 4,
 "nbformat_minor": 2
}
