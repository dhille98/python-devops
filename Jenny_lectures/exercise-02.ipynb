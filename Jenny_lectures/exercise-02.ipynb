{
 "cells": [
  {
   "cell_type": "markdown",
   "metadata": {},
   "source": [
    "## Vaiables in python \n",
    "* store the values on vaiables an reusable\n",
    "* a = 1\n",
    "* b = \"jenny\"\n",
    "* call the vaiables using on `print(a)`"
   ]
  },
  {
   "cell_type": "code",
   "execution_count": 1,
   "metadata": {},
   "outputs": [
    {
     "name": "stdout",
     "output_type": "stream",
     "text": [
      "1\n",
      "jenny\n"
     ]
    }
   ],
   "source": [
    "a = 1\n",
    "b = \"jenny\"\n",
    "print(a)\n",
    "print(b)"
   ]
  },
  {
   "cell_type": "code",
   "execution_count": 2,
   "metadata": {},
   "outputs": [
    {
     "name": "stdout",
     "output_type": "stream",
     "text": [
      "dhilli\n"
     ]
    }
   ],
   "source": [
    "Name = input(\"Enter Your Name\")\n",
    "print(Name) # dhilli"
   ]
  },
  {
   "cell_type": "markdown",
   "metadata": {},
   "source": [
    "* find the length of word using functions `len()`"
   ]
  },
  {
   "cell_type": "code",
   "execution_count": 4,
   "metadata": {},
   "outputs": [
    {
     "name": "stdout",
     "output_type": "stream",
     "text": [
      "6\n"
     ]
    }
   ],
   "source": [
    "Name = input(\"Enter Your Name\") # dhilli\n",
    "length = len(Name)\n",
    "print(length)"
   ]
  },
  {
   "cell_type": "markdown",
   "metadata": {},
   "source": [
    "### Swap 2 numbers \n",
    "* task is \n",
    "    * enter value of a = 1\n",
    "    * enter value of b = 2 \n",
    "        * a = 2\n",
    "        * b = 1\n",
    "* \n"
   ]
  },
  {
   "cell_type": "code",
   "execution_count": 1,
   "metadata": {},
   "outputs": [
    {
     "name": "stdout",
     "output_type": "stream",
     "text": [
      "a=4\n",
      "b=5\n"
     ]
    }
   ],
   "source": [
    "a = input(\"enter value of a= \") # a=5\n",
    "b = input(\"enter value of b= \") # b=4\n",
    "temp = a\n",
    "a=b\n",
    "b=temp\n",
    "\n",
    "print(\"a=\" +a)\n",
    "print(\"b=\" + b)\n"
   ]
  },
  {
   "cell_type": "markdown",
   "metadata": {},
   "source": [
    "### variable names\n",
    "* Camal case --- myName\n",
    "* Pascal case --- MyName\n",
    "* sake case --- my_name"
   ]
  },
  {
   "cell_type": "code",
   "execution_count": null,
   "metadata": {},
   "outputs": [],
   "source": [
    "# video is p_11"
   ]
  }
 ],
 "metadata": {
  "kernelspec": {
   "display_name": "Python 3",
   "language": "python",
   "name": "python3"
  },
  "language_info": {
   "codemirror_mode": {
    "name": "ipython",
    "version": 3
   },
   "file_extension": ".py",
   "mimetype": "text/x-python",
   "name": "python",
   "nbconvert_exporter": "python",
   "pygments_lexer": "ipython3",
   "version": "3.12.3"
  }
 },
 "nbformat": 4,
 "nbformat_minor": 2
}
