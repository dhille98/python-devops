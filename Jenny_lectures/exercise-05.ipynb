{
 "cells": [
  {
   "cell_type": "markdown",
   "id": "9daa53c8",
   "metadata": {},
   "source": [
    "### if-else in python \n",
    "* these are conditional statements and desecions making statements \n",
    "* python silkily use on indentation identify the block \n",
    "* syntax;\n",
    "```\n",
    "if condition: \n",
    "    do this\n",
    "else:\n",
    "    do this \n",
    "```"
   ]
  },
  {
   "cell_type": "code",
   "execution_count": 2,
   "id": "f39b2497",
   "metadata": {},
   "outputs": [
    {
     "name": "stdout",
     "output_type": "stream",
     "text": [
      "Buy Token\n",
      "Thank you visiting\n"
     ]
    }
   ],
   "source": [
    "# if-else\n",
    "height = int(input(\"Enter Your Height in feets\"))\n",
    "if height > 3:\n",
    "    print(\"Buy Token\")\n",
    "else:\n",
    "    print(\"Token is Not requried\")\n",
    "\n",
    "print(\"Thank you visiting\")\n"
   ]
  },
  {
   "cell_type": "markdown",
   "id": "7c4cb52b",
   "metadata": {},
   "source": [
    "### Exercise-5.0\n",
    "* check the number is even or odd"
   ]
  },
  {
   "cell_type": "markdown",
   "id": "89e0a4c3",
   "metadata": {},
   "source": [
    "### nested if else & elif \n",
    "* nested if means if inside another if \n",
    "\n",
    "```\n",
    "if condition1:\n",
    "    statement1\n",
    "    if condition 2\n",
    "        statement 2\n",
    "else:\n",
    "    do this\n",
    "```\n"
   ]
  },
  {
   "cell_type": "code",
   "execution_count": 5,
   "id": "4527821a",
   "metadata": {},
   "outputs": [
    {
     "name": "stdout",
     "output_type": "stream",
     "text": [
      "number is 18 even\n",
      "Number is greater then 20, that's grate\n"
     ]
    }
   ],
   "source": [
    "# under standing nested if \n",
    "\n",
    "number = int(input(\"Enter the number:\"))\n",
    "\n",
    "if number % 2 == 0:\n",
    "    print(f\"number is {number} even\")\n",
    "    if number < 20:\n",
    "        print(\"Number is greater then 20, that's grate\")\n",
    "else: \n",
    "    print(f\"number is {number} odd\")\n"
   ]
  },
  {
   "cell_type": "code",
   "execution_count": null,
   "id": "b8ce50d7",
   "metadata": {},
   "outputs": [
    {
     "name": "stdout",
     "output_type": "stream",
     "text": [
      "you can Ride\n",
      "your age 18 pls pay the amount Rs 250\n",
      "Thank You\n"
     ]
    }
   ],
   "source": [
    "# riding game \n",
    "height = int(input(\"Enter Your Height in feets\"))\n",
    "if height >= 4:\n",
    "    print(\"you can Ride\")\n",
    "    age = int(input(\"Enter your age:\"))\n",
    "    if age <= 18:\n",
    "        print(f\"your age is {age} pls pay the amount Rs 250\") \n",
    "    else:\n",
    "        print(f\"your age is {age} pls pay the amount Rs 400\")\n",
    "else:\n",
    "    print(\"can't ride\")\n",
    "print(\"Thank You\")"
   ]
  },
  {
   "cell_type": "markdown",
   "id": "c1f3b6b1",
   "metadata": {},
   "source": [
    "### Exercise-5.3 \n",
    "\n",
    "* calucate the BMI value \n",
    "      * < 18.5 Under weight \n",
    "      * 18.5 to 25 narmal Weight \n",
    "      * 25 to 30 are over weight \n",
    "      * 30 to 35 are Obese\n",
    "      * 35 Clinically \n",
    "     \n",
    "### Exerccise-5.4\n",
    "* find year is leap year not\n",
    "* how to write code on \n",
    "    * check the number is divisible by 4\n",
    "        * check the number is divisible by 100\n",
    "              * check the number is divisible by 400"
   ]
  },
  {
   "cell_type": "markdown",
   "id": "6d64e1f8",
   "metadata": {},
   "source": [
    "## Multiple if Statements \n",
    "\n",
    "```\n",
    "if condition 1\n",
    "    do x\n",
    "if condition 2\n",
    "    do y\n",
    "if condition 3 \n",
    "    do z \n",
    "```\n",
    "* above check the all condition on if condition is pass or fail \n",
    "* above case all condition are true all conditions are excuted.\n",
    "```\n",
    "if condition 1\n",
    "    do x\n",
    "elif condition 2\n",
    "    do y\n",
    "else:\n",
    "    do z \n",
    "```\n",
    "* above case check condition 1 if pass code will stoped, other wise check another condition 2 \n",
    "* in this case one should excuted.\n"
   ]
  },
  {
   "cell_type": "code",
   "execution_count": null,
   "id": "cb823621",
   "metadata": {},
   "outputs": [
    {
     "name": "stdout",
     "output_type": "stream",
     "text": [
      "You can Ride\n",
      "Ticket price is 500\n",
      "your choosing photo pay extra amount on 50  \n",
      "your total Bill is : 550\n"
     ]
    }
   ],
   "source": [
    "# play with riding and take photo will be extra charges \n",
    "\n",
    "height = int(input(\"What is your Height ?\"))\n",
    "bill   = 0 \n",
    "if height > 3:\n",
    "    print(\"You can Ride\")\n",
    "    age = int(input(\"what is your age? \"))\n",
    "    if age <= 12:\n",
    "        bill = 250\n",
    "        print(\"Ticket price is 250\")\n",
    "    elif age <= 18:\n",
    "        bill = 350\n",
    "        print(\"Ticket price is 350\")\n",
    "    else:\n",
    "        bill = 500\n",
    "        print(\"Ticket price is 500\")\n",
    "    \n",
    "    want_photo = input(\"Do you want to take photo(Y/N)?\")\n",
    "\n",
    "    if want_photo == 'y' or want_photo == 'Y':\n",
    "        bill += 50\n",
    "        print(\"your chosing photo pay extra amount on 50  \")\n",
    "    print(f\"your total Bill is : {bill}\")\n",
    "else:\n",
    "    print(\"can't Ride ....\")\n",
    "    print(\"bye\")\n",
    "\n",
    "\n"
   ]
  },
  {
   "cell_type": "markdown",
   "id": "53fa9d5e",
   "metadata": {},
   "source": [
    "### Codeing Exercise-5.5\n",
    "* pizza order programe\n",
    "      * small Pizza = 100\n",
    "      * Medium Pizza = 200\n",
    "      * Large Pizza = 300\n",
    "  * peperoni for small Pizza = 30\n",
    "  * pepperoni for medium large pizza = 50\n",
    "  * extra cheese for for any size pizza = 20"
   ]
  },
  {
   "cell_type": "markdown",
   "id": "fac8b550",
   "metadata": {},
   "source": [
    "### Functions \n",
    "* lower()\n",
    "* upper()\n",
    "* count()"
   ]
  }
 ],
 "metadata": {
  "kernelspec": {
   "display_name": "Python 3",
   "language": "python",
   "name": "python3"
  },
  "language_info": {
   "codemirror_mode": {
    "name": "ipython",
    "version": 3
   },
   "file_extension": ".py",
   "mimetype": "text/x-python",
   "name": "python",
   "nbconvert_exporter": "python",
   "pygments_lexer": "ipython3",
   "version": "3.12.3"
  }
 },
 "nbformat": 4,
 "nbformat_minor": 5
}
