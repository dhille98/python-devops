{
 "cells": [
  {
   "cell_type": "markdown",
   "id": "7c4d2012",
   "metadata": {},
   "source": [
    "# list in Python \n",
    "## In this lecture we will discuss: \n",
    "* What is list\n",
    "* How to use list\n",
    "* Assign multiple values to variable\n",
    "* Printing value of list\n",
    "* Print value of list by index number\n",
    "* String list\n",
    "* list slicing\n",
    "* List of different types of data types\n",
    "* append function\n",
    "* insert function\n",
    "* remove function\n",
    "* pop function\n",
    "* extend function\n",
    "* Inbuilt functions of List : min, max,\n",
    "* sort function \n",
    "* reverse function"
   ]
  }
 ],
 "metadata": {
  "language_info": {
   "name": "python"
  }
 },
 "nbformat": 4,
 "nbformat_minor": 5
}
