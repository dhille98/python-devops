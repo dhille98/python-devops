{
 "cells": [
  {
   "cell_type": "markdown",
   "id": "7c4d2012",
   "metadata": {},
   "source": [
    "# list in Python \n",
    "## In this lecture we will discuss: \n",
    "* What is list\n",
    "* How to use list\n",
    "* Assign multiple values to variable\n",
    "* Printing value of list\n",
    "* Print value of list by index number\n",
    "* String list\n",
    "* list slicing\n",
    "* List of different types of data types\n",
    "* append function\n",
    "* insert function\n",
    "* remove function\n",
    "* pop function\n",
    "* extend function\n",
    "* Inbuilt functions of List : min, max,\n",
    "* sort function \n",
    "* reverse function\n",
    "\n",
    "\n",
    "* list is data strucher this is using for way of storing on data \n",
    "* list are mutable, order  \n",
    "* list are allowed on duplicates, sets are not allowed "
   ]
  },
  {
   "cell_type": "code",
   "execution_count": null,
   "id": "8eb0a331",
   "metadata": {},
   "outputs": [
    {
     "name": "stdout",
     "output_type": "stream",
     "text": [
      "[1, 2, 3, 4, 5, 6, 7]\n",
      "2\n"
     ]
    }
   ],
   "source": [
    "roll_number = [1, 2 , 3, 4, 5, 6, 7]\n",
    "names = ['jenny', 'krishna' 'ram']\n",
    "mix_list = [10, 'ram', 45, 'rakesh', 5]\n",
    "print(roll_number)\n",
    "print(roll_number[1])"
   ]
  },
  {
   "cell_type": "code",
   "execution_count": null,
   "id": "a7c072de",
   "metadata": {},
   "outputs": [
    {
     "name": "stdout",
     "output_type": "stream",
     "text": [
      "4\n",
      "7\n",
      "7\n",
      "[1, 2, 3, 4, 5, 6, 7]\n"
     ]
    }
   ],
   "source": [
    "numbers = [1, 2 , 3, 4, 5, 6, 7]\n",
    "print(numbers[3])\n",
    "print(len(numbers))\n",
    "print(numbers[-1])\n",
    "print(numbers[0:7]) # [1:5], []\n",
    "# [1:4] 1 is index and 4 is length \n",
    "\n",
    "\n"
   ]
  },
  {
   "cell_type": "code",
   "execution_count": 6,
   "id": "f6a2923b",
   "metadata": {},
   "outputs": [
    {
     "name": "stdout",
     "output_type": "stream",
     "text": [
      "[-67, -1, 0, 7, 8, 10, 10]\n",
      "[10, 10, 8, 7, 0, -1, -67]\n",
      "10\n",
      "[10, 10, 8, 7, 0, -1, -67, 45]\n",
      "[10, 45, 8, 7, 0, -1, -67, 45]\n",
      "[10, 45, 46, 47, 0, -1, -67, 45]\n",
      "[10, 45, 46, 47, -1, -67, 45]\n",
      "[10, 45, 46, 47, -1, -67]\n"
     ]
    }
   ],
   "source": [
    "numbers = [10, 0, -1, 7, 8, 10, -67]\n",
    "numbers.sort()\n",
    "print(numbers)\n",
    "numbers.reverse()\n",
    "print(numbers)\n",
    "print(max(numbers)) # min()\n",
    "numbers.append(45) # .extend[45,18,55]\n",
    "print(numbers)\n",
    "# change and replace number use \n",
    "numbers[1] = 45\n",
    "print(numbers)\n",
    "# remove the data \n",
    "numbers[1:4]=[45, 46, 47]\n",
    "print(numbers)\n",
    "numbers.remove(0) \n",
    "print(numbers) \n",
    "numbers.pop() # remove the last of index\n",
    "print(numbers)\n"
   ]
  },
  {
   "cell_type": "markdown",
   "id": "bef74a34",
   "metadata": {},
   "source": [
    "# Random Module in python \n",
    "- What is Randomization\n",
    "- What is Random Module in Python\n",
    "- randint() function\n",
    "- randrange() function\n",
    "- random() function\n",
    "- choice() function\n",
    "- uniform() function\n",
    "- shuffle() function\n",
    "\n",
    "```py\n",
    "# random module using on python \n",
    "import random \n",
    "\n",
    "randint(a, b) # a <= x <= b\n",
    "# this function using between two integers, a,b also included \n",
    "randrange(a,b) # a <= x < b \n",
    "# this also using on between range of a, b. \n",
    "\n",
    "random() # 0.0 <= x < 1.0 \n",
    "choice()\n",
    "shuffle()\n",
    "```\n",
    "\n"
   ]
  },
  {
   "cell_type": "code",
   "execution_count": 18,
   "id": "fab8be80",
   "metadata": {},
   "outputs": [
    {
     "name": "stdout",
     "output_type": "stream",
     "text": [
      "1\n",
      "1\n",
      "0.775326116557353\n",
      "2.970869414346222\n",
      "18\n",
      "[9, 15, 7, 4, 10, 18, 5]\n"
     ]
    }
   ],
   "source": [
    "# play with random numbers \n",
    "import random\n",
    "a = random.randint(1,3)\n",
    "print(a)\n",
    "b = random.randrange(1,3)\n",
    "print(b)\n",
    "c = random.random()\n",
    "print(c)\n",
    "d = random.uniform(1,3)\n",
    "print(d)\n",
    "l = [ 4, 5, 7, 9, 10, 15, 18]\n",
    "e = random.choice(l)\n",
    "print(e)\n",
    "random.shuffle(l)\n",
    "print(l)\n",
    "\n",
    "\n"
   ]
  },
  {
   "cell_type": "markdown",
   "id": "68bd9c4b",
   "metadata": {},
   "source": [
    "### Exercise-6.0 \n",
    "* write code for head/tail \n",
    "```py\n",
    "import random \n",
    "side = random.randint(0,1)\n",
    "if side == 1:\n",
    "    print(\"Heads\")\n",
    "else:\n",
    "    print(\"Tails\")\n",
    "```\n",
    "### Exercise-6.1 \n",
    "\n",
    "* WAP which will select a random name form a list of names & the persion seleted will have to pay for everybody's food bill"
   ]
  },
  {
   "cell_type": "markdown",
   "id": "c6cc07c5",
   "metadata": {},
   "source": [
    "# Nested List \n",
    "* means list under another list \n",
    "* i.e [1, 10, 15,[20, -10, 15], 17, 0]"
   ]
  },
  {
   "cell_type": "code",
   "execution_count": 9,
   "id": "e84658b3",
   "metadata": {},
   "outputs": [
    {
     "name": "stdout",
     "output_type": "stream",
     "text": [
      "6\n",
      "15\n",
      "[10, 12, 13]\n",
      "12\n",
      "[10, 12, 13]\n"
     ]
    }
   ],
   "source": [
    "# nested_list\n",
    "numbers = [1, 54, 75, 15, [10, 12, 13], 89]\n",
    "print(len(numbers))\n",
    "print(numbers[3])\n",
    "print(numbers[4])\n",
    "print(numbers[4][1])\n",
    "print(numbers[4][:])"
   ]
  },
  {
   "cell_type": "markdown",
   "id": "93251e92",
   "metadata": {},
   "source": [
    "## Exercise-6.2\n"
   ]
  },
  {
   "cell_type": "code",
   "execution_count": 18,
   "id": "e4c3eb15",
   "metadata": {},
   "outputs": [
    {
     "name": "stdout",
     "output_type": "stream",
     "text": [
      "['☺️', '☺️', '☺️']\n",
      "['☺️', '☺️', '☺️']\n",
      "['☺️', '✖️', '☺️']\n"
     ]
    }
   ],
   "source": [
    "# paly with matrix \n",
    "row1 = ['☺️', '☺️', '☺️']\n",
    "row2 = ['☺️', '☺️', '☺️']\n",
    "row3 = ['☺️', '☺️', '☺️']\n",
    "\n",
    "matrix = [row1, row2, row3]\n",
    "# print(f\"{row1}\\n{row2}\\n{row3}\")\n",
    "position = input(\"Enter the position where you want to hide money(3 * 3):\")\n",
    "row_number = int(position[0])\n",
    "column_number = int(position[1])\n",
    "\n",
    "row_seleted=matrix[row_number-1]\n",
    "row_seleted[column_number-1]='✖️'\n",
    "print(f\"{row1}\\n{row2}\\n{row3}\")\n",
    "\n",
    "    "
   ]
  },
  {
   "cell_type": "markdown",
   "id": "3ac65217",
   "metadata": {},
   "source": [
    "### Project-1\n",
    "* **Rock paper scissors**\n",
    "* rules --->* Rock wins against scissors \n",
    "            * scissors win against paper\n",
    "            * paper wins against Rock \n",
    "* codeing for writing on paper\n",
    "      * 0 for Rock \n",
    "      * 1 for paper\n",
    "      * 2 for scissors\n",
    "* Conditions game \n",
    "```\n",
    "0   0 \n",
    "0   1 computer wins\n",
    "0   2 user win\n",
    "1   0 user wins\n",
    "1   1 tie\n",
    "1   2 computer wins \n",
    "2   0 computer wins\n",
    "2   1 user wins\n",
    "2   2 tie\n",
    "```"
   ]
  }
 ],
 "metadata": {
  "kernelspec": {
   "display_name": "Python 3",
   "language": "python",
   "name": "python3"
  },
  "language_info": {
   "codemirror_mode": {
    "name": "ipython",
    "version": 3
   },
   "file_extension": ".py",
   "mimetype": "text/x-python",
   "name": "python",
   "nbconvert_exporter": "python",
   "pygments_lexer": "ipython3",
   "version": "3.12.3"
  }
 },
 "nbformat": 4,
 "nbformat_minor": 5
}
