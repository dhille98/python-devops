{
 "cells": [
  {
   "cell_type": "markdown",
   "id": "3f81d145",
   "metadata": {},
   "source": [
    "# Tuples in python \n",
    "* What are Tuples in Python\n",
    "* Tuples are immutable\n",
    "* in-Built Functions used with tuples\n",
    "* When to use tuples over lists?\n",
    "* Lists vs Tuples\n",
    "* in python tuples immutuble, do not add/ remove the data\n",
    "In Python, a **tuple** is an **immutable** (unchangeable) and **ordered** collection of items. Tuples are very similar to lists, but with one key difference:\n",
    "\n",
    "> 🧊 **Tuples cannot be modified after creation** (they are immutable), whereas lists can be.\n",
    "\n",
    "---\n",
    "\n",
    "### ✅ **Syntax of a Tuple:**\n",
    "\n",
    "```python\n",
    "# Creating a tuple\n",
    "my_tuple = (1, 2, 3, \"apple\", True)\n",
    "```\n",
    "\n",
    "You can also create a tuple without parentheses using commas:\n",
    "\n",
    "```python\n",
    "my_tuple = 1, 2, 3\n",
    "```\n",
    "\n",
    "---\n",
    "\n",
    "### 📌 **Key Features of Tuples:**\n",
    "\n",
    "| Feature         | Description                               |\n",
    "|-----------------|-------------------------------------------|\n",
    "| Ordered         | Elements maintain their defined order     |\n",
    "| Immutable       | Cannot be changed after creation          |\n",
    "| Iterable        | You can loop through a tuple              |\n",
    "| Allow duplicates| Tuples can contain duplicate values       |\n",
    "| Heterogeneous   | Can store different data types            |\n",
    "\n",
    "---\n",
    "\n",
    "### 📘 **Examples:**\n",
    "\n",
    "```python\n",
    "# Accessing elements\n",
    "print(my_tuple[0])  # Output: 1\n",
    "\n",
    "# Tuple unpacking\n",
    "a, b, c = (10, 20, 30)\n",
    "print(a, b, c)  # Output: 10 20 30\n",
    "```\n",
    "\n",
    "---\n",
    "\n",
    "### 🚫 **Trying to Modify a Tuple (Error Example):**\n",
    "\n",
    "```python\n",
    "my_tuple = (1, 2, 3)\n",
    "my_tuple[0] = 10  # ❌ This will raise a TypeError\n",
    "```\n",
    "\n",
    "---\n",
    "\n",
    "### ✅ **When to Use Tuples:**\n",
    "\n",
    "- When your data should **not be changed**.\n",
    "- When you want to use the tuple as a **dictionary key** (lists can't be used because they're mutable).\n",
    "- For **faster performance** compared to lists (tuples use less memory).\n",
    "\n"
   ]
  },
  {
   "cell_type": "code",
   "execution_count": 1,
   "id": "c936c1a9",
   "metadata": {},
   "outputs": [
    {
     "name": "stdout",
     "output_type": "stream",
     "text": [
      "<class 'tuple'>\n",
      "6\n"
     ]
    }
   ],
   "source": [
    "tuple1 = (12, 6, -8, 'jenny', True)\n",
    "print(type(tuple1))\n",
    "print(tuple1[1])"
   ]
  }
 ],
 "metadata": {
  "kernelspec": {
   "display_name": "Python 3",
   "language": "python",
   "name": "python3"
  },
  "language_info": {
   "codemirror_mode": {
    "name": "ipython",
    "version": 3
   },
   "file_extension": ".py",
   "mimetype": "text/x-python",
   "name": "python",
   "nbconvert_exporter": "python",
   "pygments_lexer": "ipython3",
   "version": "3.12.3"
  }
 },
 "nbformat": 4,
 "nbformat_minor": 5
}
