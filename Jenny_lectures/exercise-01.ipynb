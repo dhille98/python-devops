{
 "cells": [
  {
   "cell_type": "markdown",
   "metadata": {},
   "source": [
    "### codeing exercise on print()\n",
    "    - first program - python print functions \n",
    "    - it is declared like this :\n",
    "    - print(\"what to print\")\n",
    "- in this section how to use print function in python when do put the double qutes and single qutes "
   ]
  },
  {
   "cell_type": "code",
   "execution_count": 5,
   "metadata": {},
   "outputs": [
    {
     "name": "stdout",
     "output_type": "stream",
     "text": [
      "hello\n",
      "Frist program - python print functions\n",
      "It is declared like this:\n",
      "print('what to print')\n"
     ]
    }
   ],
   "source": [
    "print('hello')\n",
    "print(\"Frist program - python print functions\")\n",
    "print(\"It is declared like this:\")\n",
    "print(\"print('what to print')\")"
   ]
  },
  {
   "cell_type": "markdown",
   "metadata": {},
   "source": [
    "## String Manipulation\n",
    "* how to print multipule line in python \n",
    "* print and line by line \n",
    "* in python `/n` using new line print \n",
    "* concatenations print use `+`\n",
    "\n",
    "### exercise\n",
    "* string concatenation is done with \"+\" sign\n",
    "* new lines can be crated with a backslash(n) and \"n\""
   ]
  },
  {
   "cell_type": "code",
   "execution_count": 11,
   "metadata": {},
   "outputs": [
    {
     "name": "stdout",
     "output_type": "stream",
     "text": [
      " Hello world \n",
      " Hello World \n",
      " Hello World\n",
      "hellojenny\n",
      "hello jenny\n"
     ]
    }
   ],
   "source": [
    "print(\" Hello world \\n Hello World \\n Hello World\")\n",
    "# step-2\n",
    "print(\"hello\" + \"jenny\")\n",
    "print(\"hello\" + \" \" +\"jenny\")"
   ]
  },
  {
   "cell_type": "markdown",
   "metadata": {},
   "source": [
    "### Input functions in Python \n",
    "* useing syntax `input(prompt)`, in this section on prompt is otional \n",
    "* use this `input` functions on `input(\"Enter the name:\")`\n"
   ]
  },
  {
   "cell_type": "code",
   "execution_count": 1,
   "metadata": {},
   "outputs": [
    {
     "data": {
      "text/plain": [
       "'python'"
      ]
     },
     "execution_count": 1,
     "metadata": {},
     "output_type": "execute_result"
    }
   ],
   "source": [
    "input(\"What is Your Name?\")"
   ]
  },
  {
   "cell_type": "code",
   "execution_count": 3,
   "metadata": {},
   "outputs": [
    {
     "name": "stdout",
     "output_type": "stream",
     "text": [
      "Hello dhilli\n"
     ]
    }
   ],
   "source": [
    "print(\"Hello\" + \" \" + input(\"What is your Name\"))"
   ]
  },
  {
   "cell_type": "markdown",
   "metadata": {},
   "source": [
    "### Exerise-1.1\n",
    "* what is your name ? jenny \n",
    "* hey jenny how are you ?"
   ]
  }
 ],
 "metadata": {
  "kernelspec": {
   "display_name": "Python 3",
   "language": "python",
   "name": "python3"
  },
  "language_info": {
   "codemirror_mode": {
    "name": "ipython",
    "version": 3
   },
   "file_extension": ".py",
   "mimetype": "text/x-python",
   "name": "python",
   "nbconvert_exporter": "python",
   "pygments_lexer": "ipython3",
   "version": "3.12.3"
  }
 },
 "nbformat": 4,
 "nbformat_minor": 2
}
