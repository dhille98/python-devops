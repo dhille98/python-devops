{
 "cells": [
  {
   "cell_type": "markdown",
   "id": "98761668",
   "metadata": {},
   "source": [
    "# Loops in Python \n",
    "In Python, **loops** are used to **repeat a block of code** multiple times — either a set number of times or while a condition is true.\n",
    "\n",
    "---\n",
    "\n",
    "## 🔁 Types of Loops in Python:\n",
    "\n",
    "| Loop Type     | Description                                 |\n",
    "|---------------|---------------------------------------------|\n",
    "| `for` loop    | Used to iterate over a sequence (like list, string, range, etc.) |\n",
    "| `while` loop  | Repeats as long as a condition is `True`    |\n",
    "\n",
    "---\n",
    "\n",
    "### ✅ `for` Loop Example:\n",
    "\n",
    "```python\n",
    "fruits = [\"apple\", \"banana\", \"cherry\"]\n",
    "for fruit in fruits:\n",
    "    print(fruit)\n",
    "```\n",
    "\n",
    "🖨️ Output:\n",
    "```\n",
    "apple\n",
    "banana\n",
    "cherry\n",
    "```\n",
    "\n",
    "You can also loop over numbers using `range()`:\n",
    "\n",
    "```python\n",
    "for i in range(5):\n",
    "    print(i)\n",
    "```\n",
    "🖨️ Output:\n",
    "```\n",
    "0\n",
    "1\n",
    "2\n",
    "3\n",
    "4\n",
    "```\n",
    "\n",
    "---\n",
    "\n",
    "### ✅ `while` Loop Example:\n",
    "\n",
    "```python\n",
    "count = 0\n",
    "while count < 5:\n",
    "    print(count)\n",
    "    count += 1\n",
    "```\n",
    "\n",
    "🖨️ Output:\n",
    "```\n",
    "0\n",
    "1\n",
    "2\n",
    "3\n",
    "4\n",
    "```\n",
    "\n",
    "---\n",
    "\n",
    "### 🔄 Loop Control Statements:\n",
    "\n",
    "| Statement     | Use Case                                  |\n",
    "|---------------|--------------------------------------------|\n",
    "| `break`       | Exit the loop early                       |\n",
    "| `continue`    | Skip the current iteration                |\n",
    "| `pass`        | Placeholder – does nothing                |\n",
    "\n",
    "Example with `break` and `continue`:\n",
    "\n",
    "```python\n",
    "for i in range(5):\n",
    "    if i == 3:\n",
    "        continue\n",
    "    if i == 4:\n",
    "        break\n",
    "    print(i)\n",
    "```\n",
    "🖨️ Output:\n",
    "```\n",
    "0\n",
    "1\n",
    "2\n",
    "```\n",
    "\n",
    "---\n",
    "\n",
    "\n",
    "### for loop in python \n",
    "Great! Let's break it down simply.\n",
    "\n",
    "---\n",
    "\n",
    "## 🔁 What is a `for` loop in Python?\n",
    "\n",
    "A **`for` loop** in Python is used to **iterate** over a **sequence** (like a list, tuple, string, or range) and execute a block of code **for each item** in that sequence.\n",
    "\n",
    "---\n",
    "\n",
    "### 🧠 **Think of it as:**\n",
    "> \"For every item in this group, do something.\"\n",
    "\n",
    "---\n",
    "\n",
    "### ✅ **Basic Syntax:**\n",
    "\n",
    "```python\n",
    "for variable in sequence:\n",
    "    # Code to execute\n",
    "```\n",
    "\n",
    "---\n",
    "\n",
    "### 🔍 **Example with a List:**\n",
    "\n",
    "```python\n",
    "fruits = [\"apple\", \"banana\", \"cherry\"]\n",
    "\n",
    "for fruit in fruits:\n",
    "    print(fruit)\n",
    "```\n",
    "\n",
    "🖨️ Output:\n",
    "```\n",
    "apple\n",
    "banana\n",
    "cherry\n",
    "```\n",
    "\n",
    "---\n",
    "\n",
    "### 🔢 **Example with `range()`:**\n",
    "\n",
    "```python\n",
    "for i in range(5):\n",
    "    print(i)\n",
    "```\n",
    "\n",
    "🖨️ Output:\n",
    "```\n",
    "0\n",
    "1\n",
    "2\n",
    "3\n",
    "4\n",
    "```\n",
    "\n",
    "`range(5)` creates numbers from 0 to 4 (not including 5).\n",
    "\n",
    "---\n",
    "\n",
    "### ✨ **Use Cases:**\n",
    "\n",
    "- Looping through lists, strings, or dictionaries\n",
    "- Repeating actions a specific number of times\n",
    "- Processing data in batches\n",
    "\n",
    "\n"
   ]
  },
  {
   "cell_type": "code",
   "execution_count": 2,
   "id": "ed3f66fe",
   "metadata": {},
   "outputs": [
    {
     "name": "stdout",
     "output_type": "stream",
     "text": [
      "J\n",
      "e\n",
      "n\n",
      "n\n",
      "y\n"
     ]
    }
   ],
   "source": [
    "# for Loop \n",
    "name = 'Jenny'\n",
    "for i in name:\n",
    "    print(i)"
   ]
  },
  {
   "cell_type": "code",
   "execution_count": 3,
   "id": "8dbe9576",
   "metadata": {},
   "outputs": [
    {
     "name": "stdout",
     "output_type": "stream",
     "text": [
      "Jenny\n",
      "Hey, It's me\n",
      "Ram\n",
      "Rahul\n",
      "payal\n"
     ]
    }
   ],
   "source": [
    "# for loop \n",
    "names = [\"Jenny\", \"Ram\", \"Rahul\", \"payal\"]\n",
    "\n",
    "for name in names:\n",
    "    print(name)\n",
    "    if name == 'Jenny':\n",
    "        print(\"Hey, It's me\")\n"
   ]
  },
  {
   "cell_type": "code",
   "execution_count": 17,
   "id": "7659c418",
   "metadata": {},
   "outputs": [
    {
     "name": "stdout",
     "output_type": "stream",
     "text": [
      "[1, 4, 9, 100, 49]\n"
     ]
    }
   ],
   "source": [
    "# squres of numbers\n",
    "\n",
    "numbers = [1,2,3,10,7,]\n",
    "squares = []\n",
    "for i in numbers:\n",
    "    square = i ** 2\n",
    "   # print(squre)\n",
    "    squares.append(square)\n",
    "print(squares)"
   ]
  },
  {
   "cell_type": "code",
   "execution_count": 20,
   "id": "bf9f86e2",
   "metadata": {},
   "outputs": [
    {
     "name": "stdout",
     "output_type": "stream",
     "text": [
      "2\n",
      "56\n",
      "34\n",
      "3\n",
      "5\n",
      "0\n",
      "Out of for/else\n"
     ]
    }
   ],
   "source": [
    "# for, else in python \n",
    "\n",
    "tuple1 = (2,56,34,3,5,0,-1)\n",
    "for i in tuple1:\n",
    "    print(i)\n",
    "    if i == 0:\n",
    "        break\n",
    "else:\n",
    "    print(\"Loop successfully completed and we are in else block now !!!\")\n",
    "\n",
    "print(\"Out of for/else\")"
   ]
  },
  {
   "cell_type": "code",
   "execution_count": 24,
   "id": "2fd2932c",
   "metadata": {},
   "outputs": [
    {
     "name": "stdout",
     "output_type": "stream",
     "text": [
      "2\n",
      "There in no number divisible by 6 in this sequence !!\n",
      "5\n",
      "There in no number divisible by 6 in this sequence !!\n",
      "34\n",
      "There in no number divisible by 6 in this sequence !!\n",
      "3\n",
      "There in no number divisible by 6 in this sequence !!\n",
      "56\n",
      "There in no number divisible by 6 in this sequence !!\n",
      "-1\n",
      "There in no number divisible by 6 in this sequence !!\n"
     ]
    }
   ],
   "source": [
    "tuple1 = (2,5,34,3,56,-1)\n",
    "for i in tuple1:\n",
    "    print(i)\n",
    "    if i % 6 == 0:\n",
    "        print(i)\n",
    "        break\n",
    "    else: \n",
    "        print(\"There in no number divisible by 6 in this sequence !!\")\n",
    "\n"
   ]
  },
  {
   "cell_type": "markdown",
   "id": "baa74e9d",
   "metadata": {},
   "source": [
    "### Exercise-9.0 \n",
    "* write program to calculate average height from a list of heights \n",
    "### Exercise-9.1\n",
    "* find the maxmum number list when taken the number on user's "
   ]
  },
  {
   "cell_type": "markdown",
   "id": "956ee96c",
   "metadata": {},
   "source": [
    "# range function in python \n",
    "\n",
    "\n",
    "The `range()` function in Python is used to generate a sequence of numbers. It's commonly used in `for` loops when you want to repeat something a certain number of times or iterate over a sequence of numbers.\n",
    "\n",
    "### Syntax:\n",
    "\n",
    "```python\n",
    "range(start, stop, step)\n",
    "```\n",
    "\n",
    "- **start** (optional): The beginning of the sequence (default is `0`)\n",
    "- **stop** (required): The end of the sequence (not inclusive)\n",
    "- **step** (optional): The difference between each number in the sequence (default is `1`)\n",
    "\n",
    "---\n",
    "\n",
    "### Examples:\n",
    "\n",
    "#### 1. Basic usage:\n",
    "```python\n",
    "for i in range(5):\n",
    "    print(i)\n",
    "```\n",
    "**Output:**\n",
    "```\n",
    "0\n",
    "1\n",
    "2\n",
    "3\n",
    "4\n",
    "```\n",
    "\n",
    "#### 2. Using `start` and `stop`:\n",
    "```python\n",
    "for i in range(2, 6):\n",
    "    print(i)\n",
    "```\n",
    "**Output:**\n",
    "```\n",
    "2\n",
    "3\n",
    "4\n",
    "5\n",
    "```\n",
    "\n",
    "#### 3. Using `step`:\n",
    "```python\n",
    "for i in range(1, 10, 2):\n",
    "    print(i)\n",
    "```\n",
    "**Output:**\n",
    "```\n",
    "1\n",
    "3\n",
    "5\n",
    "7\n",
    "9\n",
    "```\n",
    "\n",
    "#### 4. Using `step` with negative numbers (counting backward):\n",
    "```python\n",
    "for i in range(10, 0, -2):\n",
    "    print(i)\n",
    "```\n",
    "**Output:**\n",
    "```\n",
    "10\n",
    "8\n",
    "6\n",
    "4\n",
    "2\n",
    "```\n",
    "\n",
    "---\n",
    "\n",
    "### Key Points:\n",
    "- `range()` returns a special \"range\" object, which is iterable.\n",
    "- To convert it into a list: `list(range(5))` → `[0, 1, 2, 3, 4]`\n",
    "\n",
    "---\n",
    "\n",
    "* "
   ]
  },
  {
   "cell_type": "code",
   "execution_count": 6,
   "id": "79dbe64c",
   "metadata": {},
   "outputs": [
    {
     "name": "stdout",
     "output_type": "stream",
     "text": [
      "0\n",
      "1\n",
      "2\n",
      "3\n",
      "4\n",
      "2\n",
      "4\n",
      "6\n",
      "8\n",
      "10\n",
      "12\n",
      "14\n"
     ]
    }
   ],
   "source": [
    "# under standing on range function \n",
    "\n",
    "# a = range(5)\n",
    "# print(a[1])\n",
    "\n",
    "for i in range(5):\n",
    "    print(i)\n",
    "\n",
    "\n",
    "for i in range(2, 15, 2): # i =2 j = 15 k = 2\n",
    "    print(i)\n",
    "\n"
   ]
  },
  {
   "cell_type": "code",
   "execution_count": null,
   "id": "5c82b465",
   "metadata": {},
   "outputs": [
    {
     "name": "stdout",
     "output_type": "stream",
     "text": [
      "-1\n",
      "-2\n",
      "-3\n",
      "-4\n",
      "-5\n",
      "-6\n",
      "-7\n",
      "-8\n",
      "-9\n"
     ]
    }
   ],
   "source": [
    "for i in range(-1, -10, -1): # \n",
    "    print(i)"
   ]
  },
  {
   "cell_type": "code",
   "execution_count": 11,
   "id": "65513b6a",
   "metadata": {},
   "outputs": [
    {
     "name": "stdout",
     "output_type": "stream",
     "text": [
      "5050\n"
     ]
    }
   ],
   "source": [
    "# total sum of 100 numbers \n",
    "\n",
    "total = 0\n",
    "for i in range(1, 101):\n",
    "    total += i\n",
    "print(total)\n"
   ]
  },
  {
   "cell_type": "markdown",
   "id": "764a9e63",
   "metadata": {},
   "source": [
    "### Exercise-9.2 \n",
    "* calculate sum of even numbers from 1 to 100 including 1 & 100 \n",
    "### Exercise-9.3 \n",
    "* Fizz & Buzz game in python \n",
    "* number divisible 3 print on Fizz\n",
    "* number is divisible 5 print on Buzz\n",
    "* number is divisible 3 & 5 print on FizzBuzz\n"
   ]
  },
  {
   "cell_type": "markdown",
   "id": "e8ae4490",
   "metadata": {},
   "source": [
    "### While Loop\n",
    "Great question!\n",
    "\n",
    "You should use a `while` loop in Python **when you want to keep looping until a certain condition is no longer true** — especially when you **don’t know ahead of time how many times you'll need to loop**.\n",
    "\n",
    "---\n",
    "\n",
    "### 🔁 **When to use a `while` loop:**\n",
    "\n",
    "1. **Repeat until a condition is false:**\n",
    "   ```python\n",
    "   count = 0\n",
    "   while count < 5:\n",
    "       print(count)\n",
    "       count += 1\n",
    "   ```\n",
    "\n",
    "2. **Waiting for user input or external event:**\n",
    "   ```python\n",
    "   user_input = ''\n",
    "   while user_input != 'exit':\n",
    "       user_input = input(\"Type 'exit' to quit: \")\n",
    "   ```\n",
    "\n",
    "3. **Polling or retrying logic:**\n",
    "   Useful when you're waiting for a service to respond or retrying something that can fail:\n",
    "   ```python\n",
    "   attempts = 0\n",
    "   success = False\n",
    "\n",
    "   while not success and attempts < 3:\n",
    "       print(\"Trying something...\")\n",
    "       # simulate success after 2 tries\n",
    "       if attempts == 2:\n",
    "           success = True\n",
    "       attempts += 1\n",
    "   ```\n",
    "\n",
    "4. **Infinite loops (with break):**\n",
    "   When you want to loop forever until something happens:\n",
    "   ```python\n",
    "   while True:\n",
    "       data = input(\"Enter something (or 'stop' to quit): \")\n",
    "       if data == 'stop':\n",
    "           break\n",
    "       print(f\"You entered: {data}\")\n",
    "   ```\n",
    "\n",
    "---\n",
    "\n",
    "### ✅ **Use `for` loop when:**\n",
    "- You know how many times you need to loop.\n",
    "- You're looping over a sequence like a list, tuple, string, or `range()`.\n",
    "\n",
    "---\n",
    "\n",
    "### Quick Comparison:\n",
    "| Use Case                | Loop Type     |\n",
    "|-------------------------|---------------|\n",
    "| Fixed number of loops   | `for` loop    |\n",
    "| Unknown repetitions     | `while` loop  |\n",
    "| Loop until condition met| `while` loop  |\n",
    "\n"
   ]
  },
  {
   "cell_type": "code",
   "execution_count": 17,
   "id": "1e92cf0a",
   "metadata": {},
   "outputs": [
    {
     "name": "stdout",
     "output_type": "stream",
     "text": [
      "0\n",
      "1\n",
      "2\n",
      "3\n",
      "4\n",
      "5\n"
     ]
    }
   ],
   "source": [
    "# while loop in python \n",
    "\n",
    "count = 0\n",
    "while count <= 5:\n",
    "    print(count)\n",
    "    count += 1"
   ]
  },
  {
   "cell_type": "code",
   "execution_count": 18,
   "id": "ed64cd08",
   "metadata": {},
   "outputs": [
    {
     "name": "stdout",
     "output_type": "stream",
     "text": [
      "0\n"
     ]
    }
   ],
   "source": [
    "total = 0\n",
    "number = int(input(\"Enter a number(0 to quit: )\"))\n",
    "while number != 0:\n",
    "    total = total + number\n",
    "    number = int(input(\"Enter a number(0 to quit: )\"))\n",
    "print(number)\n"
   ]
  },
  {
   "cell_type": "markdown",
   "id": "f4d11fc3",
   "metadata": {},
   "source": [
    "## Break, continue, pass\n",
    "* using break \n",
    "```\n",
    "for loop \n",
    "    # some code\n",
    "    if condition\n",
    "        break \n",
    "    # some more code \n",
    "# outside loop \n",
    "\n",
    "```"
   ]
  },
  {
   "cell_type": "code",
   "execution_count": 1,
   "id": "01a02ea6",
   "metadata": {},
   "outputs": [
    {
     "name": "stdout",
     "output_type": "stream",
     "text": [
      "1\n",
      "Hi\n",
      "2\n",
      "Hi\n",
      "3\n",
      "Hi\n",
      "4\n",
      "Hi\n",
      "5\n",
      "Hi\n",
      "6\n",
      "Hi\n",
      "7\n",
      "Out for the loop\n"
     ]
    }
   ],
   "source": [
    "# while loop in break condition \n",
    "count = 1\n",
    "while count <= 10:\n",
    "    print(count)\n",
    "    count += 1\n",
    "    if count == 8:\n",
    "        break\n",
    "    print(\"Hi\")\n",
    "print(\"Out for the loop\") "
   ]
  },
  {
   "cell_type": "code",
   "execution_count": 5,
   "id": "e07a685a",
   "metadata": {},
   "outputs": [
    {
     "name": "stdout",
     "output_type": "stream",
     "text": [
      "Hi Ram\n",
      "Hi Ravi\n",
      "Hi Arjun\n",
      "Out from inner loop\n",
      "Hello Ram\n",
      "Hello Ravi\n",
      "Out from inner loop\n",
      "Welcome Ram\n",
      "Welcome Ravi\n",
      "Welcome Arjun\n",
      "Out from inner loop\n",
      "Out from the outer Loop\n"
     ]
    }
   ],
   "source": [
    "list1 = [\"Hi\", \"Hello\", \"Welcome\"]\n",
    "names = [\"Ram\", \"Ravi\", \"Arjun\"]\n",
    "\n",
    "for item in list1:\n",
    "    for name in names:\n",
    "        print(item, name)\n",
    "        if item == \"Hello\" and name == \"Ravi\":\n",
    "            break\n",
    "    print(\"Out from inner loop\")\n",
    "print(\"Out from the outer Loop\")"
   ]
  },
  {
   "cell_type": "markdown",
   "id": "4030cf59",
   "metadata": {},
   "source": [
    "#### continue is \n",
    "\n",
    "```\n",
    "for loop / while loop\n",
    "    # some code \n",
    "    if condition \n",
    "        continue \n",
    "    # some more code\n",
    "# out side loop  \n",
    "```\n"
   ]
  },
  {
   "cell_type": "code",
   "execution_count": null,
   "id": "b2d16a16",
   "metadata": {},
   "outputs": [
    {
     "name": "stdout",
     "output_type": "stream",
     "text": [
      "1\n",
      "Hi\n",
      "2\n",
      "Hi\n",
      "3\n",
      "Hi\n",
      "4\n",
      "Hi\n",
      "5\n",
      "Hi\n",
      "6\n",
      "7\n",
      "Hi\n",
      "8\n",
      "Hi\n",
      "9\n",
      "Hi\n",
      "10\n",
      "Hi\n",
      "Out from loop now\n"
     ]
    }
   ],
   "source": [
    "# continue \n",
    "\n",
    "count = 1\n",
    "while count <= 10:\n",
    "    print(count)\n",
    "    count += 1 # 7 = 6 +1 \n",
    "    if count == 7:\n",
    "        continue\n",
    "    print(\"Hi\") \n",
    "print(\"Out from loop now\")"
   ]
  },
  {
   "cell_type": "code",
   "execution_count": 7,
   "id": "8e577130",
   "metadata": {},
   "outputs": [
    {
     "name": "stdout",
     "output_type": "stream",
     "text": [
      "1\n",
      "2\n",
      "3\n",
      "4\n",
      "5\n",
      "6\n",
      "8\n",
      "9\n",
      "10\n"
     ]
    }
   ],
   "source": [
    "for i in range(1 ,11):\n",
    "    if i == 7:\n",
    "        continue\n",
    "    else:\n",
    "        print(i)"
   ]
  },
  {
   "cell_type": "markdown",
   "id": "5244cd62",
   "metadata": {},
   "source": [
    "### Pass \n",
    "* pass means do nothing \n"
   ]
  },
  {
   "cell_type": "code",
   "execution_count": 8,
   "id": "df85c529",
   "metadata": {},
   "outputs": [
    {
     "name": "stdout",
     "output_type": "stream",
     "text": [
      "0\n",
      "1\n",
      "3\n",
      "4\n"
     ]
    }
   ],
   "source": [
    "for i in range(5):\n",
    "    if i == 2:\n",
    "        pass\n",
    "    else:\n",
    "        print(i)\n"
   ]
  },
  {
   "cell_type": "code",
   "execution_count": 9,
   "id": "8076c307",
   "metadata": {},
   "outputs": [
    {
     "name": "stdout",
     "output_type": "stream",
     "text": [
      "1\n",
      "Hi\n",
      "2\n",
      "Hi\n",
      "3\n",
      "Hi\n",
      "4\n",
      "Hi\n",
      "5\n",
      "Hi\n",
      "6\n",
      "Hi\n",
      "7\n",
      "Hi\n",
      "8\n",
      "Hi\n",
      "9\n",
      "Hi\n",
      "10\n",
      "Hi\n",
      "Out from loop now\n"
     ]
    }
   ],
   "source": [
    "count = 1\n",
    "while count <= 10:\n",
    "    print(count)\n",
    "    count += 1 # 7 = 6 +1 \n",
    "    if count == 7:\n",
    "        pass\n",
    "    print(\"Hi\") \n",
    "print(\"Out from loop now\")"
   ]
  },
  {
   "cell_type": "code",
   "execution_count": 11,
   "id": "26b9e8c6",
   "metadata": {},
   "outputs": [
    {
     "ename": "SyntaxError",
     "evalue": "incomplete input (2185924089.py, line 2)",
     "output_type": "error",
     "traceback": [
      "\u001b[1;36m  Cell \u001b[1;32mIn[11], line 2\u001b[1;36m\u001b[0m\n\u001b[1;33m    # pass\u001b[0m\n\u001b[1;37m          ^\u001b[0m\n\u001b[1;31mSyntaxError\u001b[0m\u001b[1;31m:\u001b[0m incomplete input\n"
     ]
    }
   ],
   "source": [
    "def fun1():\n",
    "    # pass"
   ]
  },
  {
   "cell_type": "markdown",
   "id": "72c0f39a",
   "metadata": {},
   "source": [
    "## Indentation \n",
    "\n",
    "Indentation in Python refers to the **whitespace at the beginning of a line** that determines the **block of code** it belongs to. Unlike many other programming languages that use braces `{}` or keywords to define code blocks, Python uses **indentation (spaces or tabs)** to define blocks of code like loops, functions, conditionals, and classes.\n",
    "\n",
    "### 🔍 Why Indentation is Important in Python:\n",
    "- Python **does not use curly braces `{}`** to indicate blocks.\n",
    "- Indentation defines the **structure and flow** of the code.\n",
    "- Incorrect indentation leads to `IndentationError` or unexpected behavior.\n",
    "\n",
    "---\n",
    "\n",
    "### ✅ Example of Correct Indentation:\n",
    "```python\n",
    "def greet(name):\n",
    "    if name:\n",
    "        print(f\"Hello, {name}!\")\n",
    "    else:\n",
    "        print(\"Hello, Stranger!\")\n",
    "\n",
    "greet(\"Alice\")\n",
    "```\n",
    "\n",
    "---\n",
    "\n",
    "### ❌ Incorrect Indentation (will raise error):\n",
    "```python\n",
    "def greet(name):\n",
    "if name:  # Error: expected an indented block\n",
    "    print(f\"Hello, {name}!\")\n",
    "```\n",
    "\n",
    "---\n",
    "\n",
    "### 🧠 Tip:\n",
    "- Use **4 spaces per indentation level** (PEP 8 standard).\n",
    "- Avoid mixing **tabs and spaces**.\n",
    "\n",
    "---\n"
   ]
  },
  {
   "cell_type": "markdown",
   "id": "eda937ca",
   "metadata": {},
   "source": [
    "## Project -3\n",
    "* **Name: Hangman game**"
   ]
  }
 ],
 "metadata": {
  "kernelspec": {
   "display_name": "Python 3",
   "language": "python",
   "name": "python3"
  },
  "language_info": {
   "codemirror_mode": {
    "name": "ipython",
    "version": 3
   },
   "file_extension": ".py",
   "mimetype": "text/x-python",
   "name": "python",
   "nbconvert_exporter": "python",
   "pygments_lexer": "ipython3",
   "version": "3.12.3"
  }
 },
 "nbformat": 4,
 "nbformat_minor": 5
}
