{
 "cells": [
  {
   "cell_type": "markdown",
   "id": "e2351132",
   "metadata": {},
   "source": [
    "In Python, a **set** is an **unordered**, **unindexed**, and **mutable** collection of **unique elements**.\n",
    "\n",
    "---\n",
    "\n",
    "### ✅ **Key Characteristics of Sets:**\n",
    "\n",
    "| Feature             | Description                                             |\n",
    "|---------------------|---------------------------------------------------------|\n",
    "| **Unordered**        | No guaranteed order of elements                        |\n",
    "| **No Duplicates**    | Each element in a set must be unique                   |\n",
    "| **Mutable**          | You can add or remove elements                         |\n",
    "| **Unindexed**        | You cannot access items using indexes like in lists    |\n",
    "\n",
    "---\n",
    "\n",
    "### 🛠️ **Creating a Set:**\n",
    "\n",
    "```python\n",
    "# Using curly braces\n",
    "my_set = {1, 2, 3, 4}\n",
    "\n",
    "# Using the set() function\n",
    "another_set = set([1, 2, 2, 3])  # Duplicates will be removed\n",
    "\n",
    "print(another_set)  # Output: {1, 2, 3}\n",
    "```\n",
    "\n",
    "---\n",
    "\n",
    "### 🔁 **Common Set Operations:**\n",
    "\n",
    "```python\n",
    "a = {1, 2, 3}\n",
    "b = {3, 4, 5}\n",
    "\n",
    "# Union\n",
    "print(a | b)  # {1, 2, 3, 4, 5}\n",
    "\n",
    "# Intersection\n",
    "print(a & b)  # {3}\n",
    "\n",
    "# Difference\n",
    "print(a - b)  # {1, 2}\n",
    "\n",
    "# Symmetric Difference (exclusive)\n",
    "print(a ^ b)  # {1, 2, 4, 5}\n",
    "```\n",
    "\n",
    "---\n",
    "\n",
    "### ➕ **Adding and Removing Elements:**\n",
    "\n",
    "```python\n",
    "s = {1, 2, 3}\n",
    "s.add(4)          # Adds 4\n",
    "s.remove(2)       # Removes 2 (raises error if not present)\n",
    "s.discard(10)     # Safely tries to remove (no error if not found)\n",
    "```\n",
    "\n",
    "---\n",
    "\n",
    "### 🚫 **Invalid Use Case:**\n",
    "\n",
    "```python\n",
    "invalid_set = {[1, 2], 3}\n",
    "# ❌ TypeError: unhashable type: 'list' — sets can only store hashable (immutable) items\n",
    "```\n",
    "\n",
    "---\n",
    "\n",
    "### 📘 **Use Cases of Sets:**\n",
    "\n",
    "- Removing duplicates from a list\n",
    "- Membership testing (`x in my_set`)\n",
    "- Performing mathematical set operations\n",
    "\n",
    "---\n",
    "\n",
    "* index not possible in sets \n",
    "* one set item is can't changed \n",
    "* `set2 = {}` empty is not a set it will show the dictionary\n",
    "* create empty set use on `set3 = set()` this will show on sets \n",
    "* add item on set using on `set1.add()`\n"
   ]
  },
  {
   "cell_type": "code",
   "execution_count": 4,
   "id": "8bba31e0",
   "metadata": {},
   "outputs": [
    {
     "name": "stdout",
     "output_type": "stream",
     "text": [
      "{True, 90, 'jenny', 56, 89, 10}\n",
      "<class 'set'>\n",
      "6\n",
      "{True, 99, 90, 'jenny', 56, 89, 10}\n",
      "{True, 99, 90, 'jenny', 56, 89}\n",
      "set()\n",
      "set()\n"
     ]
    }
   ],
   "source": [
    "set1 = {10, 56, 89, 90, 'jenny', True, 10, 1}\n",
    "print(set1)\n",
    "print(type(set1))\n",
    "set1.add(99)\n",
    "print(len(set1)-1)\n",
    "print(set1)\n",
    "set1.remove(10)\n",
    "print(set1)\n",
    "set1.clear()\n",
    "print(set1)\n",
    "set1.pop\n",
    "print(set1)\n",
    "\n",
    "#print(set1[1])"
   ]
  },
  {
   "cell_type": "markdown",
   "id": "508dbd70",
   "metadata": {},
   "source": [
    "## Operations on sets\n",
    "* sets operations are in python \n",
    "* add --> append the data on sets \n",
    "* remove --> remove the date on sets \n",
    "* clear ---> cleat set on the data \n",
    "* pop ---> also same like clear \n",
    "* union( | ) --> union(A U B) is using on intersection the date. syntax is `set1.union(set2) or set1 | set2 `\n",
    "* tuple/lists is converting on sets by using set operators . like using on `set1.union(['Mohan', Shiva])`\n",
    "* update( |= ) ---> using like on set1 is update on set2 elements \n",
    "* intersections ( & ) --> intersection(A n B) is using on intersection the date. syntax is `set1.intersection(set2) or set1 & set2 `\n",
    "* intersection_update (  )\n"
   ]
  },
  {
   "cell_type": "code",
   "execution_count": 15,
   "id": "352a4b51",
   "metadata": {},
   "outputs": [
    {
     "name": "stdout",
     "output_type": "stream",
     "text": [
      "{'riya', 'ravi', 'raju', 'jenny', 'mohan', 'jevan'}\n",
      "{'riya', 'ravi', 'raju', 'jenny', 'mohan', 'jevan'}\n",
      "{'riya', 'jenny'}\n",
      "{'riya', 'jenny'}\n",
      "{'riya', 'abhi', 'rinku', 'jenny', 'mohan', 'jevan'}\n",
      "{'riya', 'ravi', 'abhi', 'rinku', 'raju', 'jenny'}\n"
     ]
    }
   ],
   "source": [
    "# praticing on sets \n",
    "\n",
    "set1 = { \"mohan\", \"riya\", \"jenny\", \"jevan\" }\n",
    "set2 = {\"ravi\", 'raju', 'riya', 'jenny'}\n",
    "\n",
    "a = set1.union(set2)\n",
    "print(a)\n",
    "a = set1 | set2\n",
    "print(a)\n",
    "# a = set1.update(set2)\n",
    "# print(a)\n",
    "a = set1.intersection(set2)\n",
    "print(a)\n",
    "a = set1 & set2\n",
    "print(a)\n",
    "\n",
    "a = set1.union(('rinku', 'abhi'))\n",
    "print(a)\n",
    "\n",
    "a = set2.union(['rinku', 'abhi'])\n",
    "print(a)\n",
    "\n"
   ]
  },
  {
   "cell_type": "markdown",
   "id": "0a5f7f80",
   "metadata": {},
   "source": [
    "### metric and symmetric updates in python \n",
    "* difference ( - ) ---> this means (A - B) in sets\n",
    "* difference_update( )\n",
    "* symmetric_differnce( ^ ) --> using operator called (A ^ B ), this operator can be apply on multipul sets \n",
    "* \n"
   ]
  },
  {
   "cell_type": "code",
   "execution_count": 25,
   "id": "af983d1d",
   "metadata": {},
   "outputs": [
    {
     "name": "stdout",
     "output_type": "stream",
     "text": [
      "{1, 2, 3}\n",
      "{8, 9, 10}\n",
      "{1, 2, 3, 8, 9, 10}\n",
      "None\n"
     ]
    }
   ],
   "source": [
    "set1 = { 1,2,3,4,5 }\n",
    "set2 = {4,5,8,9,10}\n",
    "\n",
    "a = set1.difference(set2)\n",
    "print(a)\n",
    "a = set2 - set1\n",
    "print(a)\n",
    "a = set1.symmetric_difference(set2)\n",
    "print(a)\n",
    "a = set2.symmetric_difference_update(set1)\n",
    "print(a)"
   ]
  },
  {
   "cell_type": "markdown",
   "id": "31f572da",
   "metadata": {},
   "source": [
    "### sets \n",
    "* disjoints means two sets intersection it will give on empty sets this called disjoints sets \n",
    "```py\n",
    "set1 = {1,2,3,4,5}\n",
    "set2 = {4,10,7,8,-10}\n",
    "set1.isdisjoint(set2)  # False\n",
    "set1.issubset(set2) # False\n",
    "# set1 is subset of set2 if every element of set1 is in set2 this called subset\n",
    "# set1 is superset of set2 if set2 if set1 contains every element of set2 this called on superset\n",
    "```\n",
    "* subset operator is <=\n",
    "* reverse of subset is superset \n",
    "* deleting set in python using function called `del set1`\n",
    "* clear the set using on functions in  `set1.clear()`"
   ]
  },
  {
   "cell_type": "code",
   "execution_count": 34,
   "id": "f3c37aab",
   "metadata": {},
   "outputs": [
    {
     "name": "stdout",
     "output_type": "stream",
     "text": [
      "False\n",
      "True\n",
      "False\n",
      "True\n",
      "False\n",
      "False\n"
     ]
    }
   ],
   "source": [
    "set1 = {1,2,3,4,5,}\n",
    "set2 = {4,5,6,7}\n",
    "set3 = {10,15,22,45,75}\n",
    "set4 = {1,2,3,4,5,7,9,10}\n",
    "# disjoints\n",
    "a = set1.isdisjoint(set2)\n",
    "print(a)\n",
    "a = set1.isdisjoint(set3)\n",
    "print(a)\n",
    "# subsets \n",
    "a = set1.issubset(set2)\n",
    "print(a)\n",
    "a = set1.issubset(set4)\n",
    "print(a)\n",
    "a = set1.issuperset(set2)\n",
    "print(a)\n",
    "a = set1.issuperset(set4)\n",
    "print(a)"
   ]
  }
 ],
 "metadata": {
  "kernelspec": {
   "display_name": "Python 3",
   "language": "python",
   "name": "python3"
  },
  "language_info": {
   "codemirror_mode": {
    "name": "ipython",
    "version": 3
   },
   "file_extension": ".py",
   "mimetype": "text/x-python",
   "name": "python",
   "nbconvert_exporter": "python",
   "pygments_lexer": "ipython3",
   "version": "3.12.3"
  }
 },
 "nbformat": 4,
 "nbformat_minor": 5
}
