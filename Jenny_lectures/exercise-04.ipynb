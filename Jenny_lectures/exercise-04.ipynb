{
 "cells": [
  {
   "cell_type": "markdown",
   "id": "326c2fb4",
   "metadata": {},
   "source": [
    "### round() functions \n",
    "* it is inbuilt function in python \n",
    "* used to round off number upto the specified number of decimal points \n",
    "* syntax: `round(number, ndigits)`\n",
    "* number is must to specify it is the number to be rounnded\n",
    "* [Refer Here](https://drive.google.com/file/d/1337QXpVJ9oJ6yBGK32rdn6ecTpT9dEvV/view)\n",
    "* ndigits are optional it is the number up to which the given number is rounded, by default ndigits are considered as zero "
   ]
  },
  {
   "cell_type": "code",
   "execution_count": null,
   "id": "83a0f72c",
   "metadata": {},
   "outputs": [
    {
     "name": "stdout",
     "output_type": "stream",
     "text": [
      "7\n",
      "8\n",
      "8\n",
      "<class 'int'>\n",
      "2.67\n",
      "3.0\n",
      "<class 'float'>\n",
      "2.6666666666666665 2\n"
     ]
    }
   ],
   "source": [
    "# round() functions \n",
    "print(round(7))\n",
    "print(round(7.61))\n",
    "print(round(7.5))\n",
    "print(type(round(7.61)))\n",
    "print(round(2.6666, 2)) \n",
    "print(round(2.6657, 0))\n",
    "print(type(round(2.6657, 0)))"
   ]
  },
  {
   "cell_type": "code",
   "execution_count": null,
   "id": "2e3940c3",
   "metadata": {},
   "outputs": [
    {
     "name": "stdout",
     "output_type": "stream",
     "text": [
      "2.6666666666666665\n",
      "3\n",
      "2.67\n",
      "-3\n",
      "6\n",
      "8\n"
     ]
    }
   ],
   "source": [
    "# example-2\n",
    "print(8/3)\n",
    "print(round(2.6666))\n",
    "print(round(8/3, 2))\n",
    "print(round(-8/3))\n",
    "# below cases print the nearest even integer \n",
    "print(round(6.5))\n",
    "print(round(7.5))\n"
   ]
  },
  {
   "cell_type": "markdown",
   "id": "f24bd756",
   "metadata": {},
   "source": [
    "### some examples \n",
    "* round(674, -1) is `10^(- no.of digits)` valus is 10\n",
    "* now it is change on closest multipule of 10, it become on `670`"
   ]
  },
  {
   "cell_type": "code",
   "execution_count": 11,
   "id": "ac784872",
   "metadata": {},
   "outputs": [
    {
     "name": "stdout",
     "output_type": "stream",
     "text": [
      "674\n",
      "674\n",
      "670\n",
      "700\n",
      "1000\n"
     ]
    }
   ],
   "source": [
    "print(round(674, 2)) \n",
    "print(round(674 , 0))\n",
    "print(round(674, -1))\n",
    "print(round(674, -2))\n",
    "print(round(674, -3))"
   ]
  },
  {
   "cell_type": "code",
   "execution_count": 16,
   "id": "d5f91ca8",
   "metadata": {},
   "outputs": [
    {
     "name": "stdout",
     "output_type": "stream",
     "text": [
      "680\n",
      "660\n",
      "674.1\n",
      "670.0\n",
      "1200\n"
     ]
    }
   ],
   "source": [
    "# exercise\n",
    "print(round(675, -1))\n",
    "print(round(665, -1))\n",
    "print(round(674.1012, 1))\n",
    "print(round(674.1012, -1))\n",
    "print(round(1212, -2))"
   ]
  },
  {
   "cell_type": "markdown",
   "id": "adbb103f",
   "metadata": {},
   "source": [
    "### f-string in python \n"
   ]
  },
  {
   "cell_type": "code",
   "execution_count": 23,
   "id": "8ad48faa",
   "metadata": {},
   "outputs": [
    {
     "name": "stdout",
     "output_type": "stream",
     "text": [
      "My name is:  dhilli I am  26 years old\n",
      "My name is: dhilli i am 26 years old. My hieght is 1.7 meters\n",
      "dhilli's father is 52 years old\n"
     ]
    }
   ],
   "source": [
    "name = \"dhilli\"\n",
    "age = 26\n",
    "height = 1.7 \n",
    "\n",
    "print(\"My name is: \", name, \"I am \", age, \"years old\")\n",
    "print(f\"My name is: {name} i am {age} years old. My hieght is {height} meters\")\n",
    "print(f\"{name}'s father is {age*2} years old\")"
   ]
  },
  {
   "cell_type": "markdown",
   "id": "39a5140f",
   "metadata": {},
   "source": [
    "### Exerise-4.0\n",
    "* WAP to find out how many days, weeks, months we have life if we live until 90 yeras old \n",
    "* input: you enter age \n",
    "* o/p : you have a days b weeks and c months life \n",
    "        * 1 year = 365 days \n",
    "        * 1 year = 52 weeks\n",
    "        * 1 year  = 12"
   ]
  }
 ],
 "metadata": {
  "kernelspec": {
   "display_name": "Python 3",
   "language": "python",
   "name": "python3"
  },
  "language_info": {
   "codemirror_mode": {
    "name": "ipython",
    "version": 3
   },
   "file_extension": ".py",
   "mimetype": "text/x-python",
   "name": "python",
   "nbconvert_exporter": "python",
   "pygments_lexer": "ipython3",
   "version": "3.12.3"
  }
 },
 "nbformat": 4,
 "nbformat_minor": 5
}
