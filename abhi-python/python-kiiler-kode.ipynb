{
 "cells": [
  {
   "cell_type": "markdown",
   "metadata": {},
   "source": [
    "## functions \n",
    "* A part of your code that's used to cause an effect or evaluate a value\n",
    "\n",
    "Can come from:\n",
    "    - python (built-in-functions)\n",
    "    - Modules \n",
    "    - Your own code \n",
    "python: \n",
    "    1. checks arguments passed\n",
    "    2. checks function name \n",
    "    3. Jumps into the function \n",
    "    4. Executes the function \n",
    "    5. returns to your code\n",
    "    6. Resumes execution  "
   ]
  },
  {
   "cell_type": "code",
   "execution_count": 8,
   "metadata": {},
   "outputs": [
    {
     "name": "stdout",
     "output_type": "stream",
     "text": [
      "hello future python programmer!\n",
      "Hello, \n",
      "future python programmer!\n"
     ]
    }
   ],
   "source": [
    "print(\"hello future python programmer!\")\n",
    "\n",
    "print(\"Hello, \\nfuture python programmer!\")\n",
    "\n",
    "# \n"
   ]
  },
  {
   "cell_type": "markdown",
   "metadata": {},
   "source": [
    "## key words print functions \n",
    "print(\"hello!\", end=\"\");\\\n",
    "print(\"python is a great language\")\n",
    "\n",
    "\n",
    "## print()\n",
    "- Built-in functions: can be used with out importing it.\n",
    "- Allows us to print valuses to the console \n",
    "- we can invoke it with parentheses.\n",
    "- we can pass the value we want to print as arugumnets between the parentheses \n",
    "- The backslash `\\` tells python that the next character has a special meaning (eg. `\\n`)\n",
    "- keyword arugments such as **sep** and **end** can be used to formate the output."
   ]
  },
  {
   "cell_type": "code",
   "execution_count": 11,
   "metadata": {},
   "outputs": [
    {
     "name": "stdout",
     "output_type": "stream",
     "text": [
      "hello!python is a great language\n",
      "hello!&python is a great language\n",
      "hello_future_python_programmer!\n"
     ]
    }
   ],
   "source": [
    "print(\"hello!\", end=\"\");\\\n",
    "print(\"python is a great language\")\n",
    "\n",
    "print(\"hello!\", end=\"&\");\\\n",
    "print(\"python is a great language\")\n",
    "# second key words is \"sep=\"\" \" this is seprate the aruguments \n",
    "\n",
    "print(\"hello\", \"future\", \"python\", \"programmer!\", sep=\"_\")\n",
    "\n"
   ]
  },
  {
   "cell_type": "markdown",
   "metadata": {},
   "source": [
    "## Literals\n",
    "* Literal types:\n",
    "    1. Integers\n",
    "       - octal numbers\n",
    "       - hexadecimal numbers \n",
    "    2. floating point \n",
    "    3. Strings\n",
    "    4. Booleans \n"
   ]
  },
  {
   "cell_type": "markdown",
   "metadata": {},
   "source": [
    "# Operators \n",
    "* arithemtic Operators \n",
    "    - **\n",
    "    - Exponetial \n",
    "    - Multiplication --> * \n",
    "    - Division --> /\n",
    "    - floor Division ---> //\n",
    "    - Module --> % \n",
    "    - addtions\n",
    "    - subtractions "
   ]
  },
  {
   "cell_type": "code",
   "execution_count": 12,
   "metadata": {},
   "outputs": [
    {
     "name": "stdout",
     "output_type": "stream",
     "text": [
      "8\n"
     ]
    }
   ],
   "source": [
    "## Exponential \n",
    "print(2**3)\n",
    "## Multiplication\n",
    "print(2*3)\n",
    "## Division\n",
    "print(10 / 2)\n",
    "## Floor Division \n",
    "print(10 // 2)\n",
    "## module \n",
    "print(5%2)\n",
    "\n"
   ]
  }
 ],
 "metadata": {
  "kernelspec": {
   "display_name": "Python 3",
   "language": "python",
   "name": "python3"
  },
  "language_info": {
   "codemirror_mode": {
    "name": "ipython",
    "version": 3
   },
   "file_extension": ".py",
   "mimetype": "text/x-python",
   "name": "python",
   "nbconvert_exporter": "python",
   "pygments_lexer": "ipython3",
   "version": "3.12.3"
  }
 },
 "nbformat": 4,
 "nbformat_minor": 2
}
