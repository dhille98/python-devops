{
 "cells": [
  {
   "cell_type": "markdown",
   "metadata": {},
   "source": [
    "### codeing exercise on print()\n",
    "    - first program - python print functions \n",
    "    - it is declared like this :\n",
    "    - print(\"what to print\")\n",
    "- in this section how to use print function in python when do put the double qutes and single qutes "
   ]
  },
  {
   "cell_type": "code",
   "execution_count": 5,
   "metadata": {},
   "outputs": [
    {
     "name": "stdout",
     "output_type": "stream",
     "text": [
      "hello\n",
      "Frist program - python print functions\n",
      "It is declared like this:\n",
      "print('what to print')\n"
     ]
    }
   ],
   "source": [
    "print('hello')\n",
    "print(\"Frist program - python print functions\")\n",
    "print(\"It is declared like this:\")\n",
    "print(\"print('what to print')\")"
   ]
  },
  {
   "cell_type": "markdown",
   "metadata": {},
   "source": [
    "## String Manipulation\n",
    "* how to print multipule line in python \n",
    "* print and line by line \n",
    "* in python `/n` using new line print \n",
    "* concatenations print use `+`\n",
    "\n",
    "### exercise\n",
    "* string concatenation is done with \"+\" sign\n",
    "* new lines can be crated with a backslash(n) and \"n\""
   ]
  },
  {
   "cell_type": "code",
   "execution_count": 11,
   "metadata": {},
   "outputs": [
    {
     "name": "stdout",
     "output_type": "stream",
     "text": [
      " Hello world \n",
      " Hello World \n",
      " Hello World\n",
      "hellojenny\n",
      "hello jenny\n"
     ]
    }
   ],
   "source": [
    "print(\" Hello world \\n Hello World \\n Hello World\")\n",
    "# step-2\n",
    "print(\"hello\" + \"jenny\")\n",
    "print(\"hello\" + \" \" +\"jenny\")"
   ]
  },
  {
   "cell_type": "code",
   "execution_count": 1,
   "metadata": {},
   "outputs": [
    {
     "name": "stdout",
     "output_type": "stream",
     "text": [
      "*\n",
      "*\n",
      "*\n",
      "*\n",
      "*\n",
      "*\n",
      "*\n",
      "*\n",
      "*\n",
      "*\n",
      "*\n",
      "*\n",
      "*\n",
      "*\n",
      "*\n",
      "*\n"
     ]
    }
   ],
   "source": [
    "## start cls on -8\n",
    "for x in [0, 2, 1, 3]:\n",
    "    for y in [0, 4, 1, 2]:\n",
    "            print('*')"
   ]
  }
 ],
 "metadata": {
  "kernelspec": {
   "display_name": "Python 3",
   "language": "python",
   "name": "python3"
  },
  "language_info": {
   "codemirror_mode": {
    "name": "ipython",
    "version": 3
   },
   "file_extension": ".py",
   "mimetype": "text/x-python",
   "name": "python",
   "nbconvert_exporter": "python",
   "pygments_lexer": "ipython3",
   "version": "3.12.3"
  }
 },
 "nbformat": 4,
 "nbformat_minor": 2
}
